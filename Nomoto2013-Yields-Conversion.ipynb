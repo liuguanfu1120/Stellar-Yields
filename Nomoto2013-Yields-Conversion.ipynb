{
 "cells": [
  {
   "cell_type": "code",
   "execution_count": 1,
   "metadata": {},
   "outputs": [],
   "source": [
    "# -*- coding: utf-8 -*-\n",
    "\"\"\"\n",
    "@Author: Guan-Fu Liu\n",
    "Created on Jan. 14, 2024\n",
    "Last modified on Jan. 23, 2023\n",
    "\n",
    "Convert the stellar yield file from Nomoto et al. (2013) to the format more convenient for \n",
    "further IMF determination.\n",
    "\n",
    "Note that the AGB yields are net yields while the SNcc yields are total yields.\n",
    "We must distinguish between these two kinds of yields.\n",
    "\"\"\"\n",
    "import numpy as np\n",
    "import pandas as pd\n",
    "import pyatomdb"
   ]
  },
  {
   "cell_type": "code",
   "execution_count": 2,
   "metadata": {},
   "outputs": [],
   "source": [
    "yield_file = './Original/Nomoto2013.dat'\n",
    "with open(yield_file, 'r') as f:\n",
    "    lines = f.readlines()\n",
    "\n",
    "z_line = []\n",
    "for i in range(len(lines)):\n",
    "    if \"Z=\" in lines[i]:\n",
    "        E = float(lines[i+2].split()[1])\n",
    "        if E < 10:\n",
    "            z_line.append((\"%s-SN\" % lines[i].split()[1], i+1, np.minimum(len(lines[i+1]), 404)))\n",
    "        else:\n",
    "            z_line.append((\"%s-HN\" % lines[i].split()[1], i+1, np.minimum(len(lines[i+1]), 404)))\n",
    "    else:\n",
    "        pass\n",
    "\n",
    "\n",
    "z_line = np.array(z_line, dtype=[('model', '<U20'), ('line', 'i4'), ('ncol', 'i4')])"
   ]
  },
  {
   "cell_type": "markdown",
   "metadata": {},
   "source": [
    "# Some explantion\n",
    "\n",
    "We discard the yields when Z=0.0000, $M_{\\mathrm{ini}}\\geq 140 M_{\\odot}$, and $E_{51}\\geq 9$ in the \n",
    "first part of the N13 yields.\n",
    "Therefore, the `colspecs` goes as the following cell shows."
   ]
  },
  {
   "cell_type": "code",
   "execution_count": 3,
   "metadata": {},
   "outputs": [],
   "source": [
    "colspecs = [ ]\n",
    "# A list of tuples giving the extents of the fixed-width fields of each line as half-open intervals (i.e., [from, to[ ).\n",
    "# For Nomoto et al. (2013), the colspecs is as follows:\n",
    "# 14, 13, 13, 13, ......, 13, 11+1('\\n'),\n",
    "for i in range(31):\n",
    "    if i == 0:\n",
    "        colspecs.append((0, 14))\n",
    "    else:\n",
    "        colspecs.append((14+13*(i-1), 14+13*i))"
   ]
  },
  {
   "cell_type": "code",
   "execution_count": 4,
   "metadata": {},
   "outputs": [],
   "source": [
    "def get_df(model):\n",
    "    \"\"\"\n",
    "    Get the dataframe from the yield_file.\n",
    "\n",
    "    Parameters\n",
    "    ----------\n",
    "    model : str\n",
    "        The model name.\n",
    "        It is something like \"0.0000-HN\", \"0.0000-SN\", etc.\n",
    "    Returns\n",
    "    -------\n",
    "    df : dataframe\n",
    "    \"\"\"\n",
    "    try:\n",
    "        j = np.where(z_line['model'] == model)[0][0]\n",
    "    except:\n",
    "        print(\"Cannot find the model %s\" % model)\n",
    "    \n",
    "    colspecs = [ ]\n",
    "    # A list of tuples giving the extents of the fixed-width fields of each line as half-open intervals (i.e., [from, to[ ).\n",
    "    # For Nomoto et al. (2013), the colspecs is as follows:\n",
    "    # 14, 13, 13, 13, ......, 13, 11+1('\\n'),\n",
    "    for i in range(int((z_line[j]['ncol']-1)/13)):\n",
    "        if i == 0:\n",
    "            colspecs.append((0, 14))\n",
    "        else:\n",
    "            colspecs.append((14+13*(i-1), 14+13*i))\n",
    "    \n",
    "    if j+1 < len(z_line):\n",
    "        nrows = z_line[j+1][1]-z_line[j][1]-2\n",
    "    else:\n",
    "        nrows = None\n",
    "    df = pd.read_fwf(yield_file, colspecs=colspecs, skiprows=z_line[j][1], nrows=nrows)\n",
    "    df = df.loc[~df['M'].str.contains('E')]\n",
    "    df = df.reset_index(drop=True)\n",
    "    return df"
   ]
  },
  {
   "cell_type": "code",
   "execution_count": 5,
   "metadata": {},
   "outputs": [],
   "source": [
    "def proc_df(model):\n",
    "    \"\"\"\n",
    "    Process the dataframe from the get_df.\n",
    "\n",
    "    Parameters\n",
    "    ----------\n",
    "    model : str\n",
    "        The model name.\n",
    "        It is something like \"0.0000-HN\", \"0.0000-SN\", etc.\n",
    "    Returns\n",
    "    -------\n",
    "    df : dataframe\n",
    "    \"\"\"\n",
    "    df = get_df(model)\n",
    "    df_N13 = df.loc[~df['M'].str.contains('Mrem')].copy()\n",
    "    # Convert mass to number\n",
    "    df_N13.iloc[:, 1:] = df_N13.iloc[:, 1:].div(df_N13['M'].str.split().str[1].astype(float), axis=0)\n",
    "    # Add element column\n",
    "    df_N13.loc[:, 'element'] = df_N13['M'].str.split().str[0]\n",
    "    # Drop M column\n",
    "    df_N13.drop(columns=['M'], inplace=True)\n",
    "    df_N13 = df_N13.set_index('element')\n",
    "    df_N13.reset_index(inplace=True)\n",
    "    # Sum up the yields of the same element\n",
    "    df_N13 = df_N13.groupby('element').sum()\n",
    "    df_N13.reset_index(inplace=True)\n",
    "    # Sort the dataframe by the atomic number\n",
    "    df_N13.loc[:, 'Z'] = df_N13['element'].apply(lambda x: pyatomdb.atomic.elsymb_to_Z(x))\n",
    "    df_N13.sort_values(by='Z', inplace=True)\n",
    "    df_N13.drop(columns=['Z'], inplace=True)\n",
    "    df_N13.set_index('element', inplace=True)\n",
    "    return df_N13"
   ]
  },
  {
   "cell_type": "code",
   "execution_count": 6,
   "metadata": {},
   "outputs": [],
   "source": [
    "dfs = { }\n",
    "solar_set = 'Lodders' # 'Default', 'AG', 'Allen', 'RA', 'Grevesse', 'GS', 'Lodders'\n",
    "for model in z_line['model']:\n",
    "    if 'SN' in model:\n",
    "        df_tmp = proc_df(model)\n",
    "        df_tmp.to_csv('./N13-all/N13-%s.csv' % model, float_format='%.4e')\n",
    "        # Drop the cases where all the yields are zero,\n",
    "        # which means they are SNIa yields.\n",
    "        dfs[model] = df_tmp.loc[:, df_tmp.abs().sum(axis=0).values > 0]\n",
    "        # AGB: Mini < 10 Msun\n",
    "        dfs[model].loc[:, dfs[model].columns.astype(float)<10].to_csv('./AGB/N13-%s-AGB-net.csv' % model[:-3], float_format='%.4e')\n",
    "        # SNcc: Mini > 10 Msun\n",
    "        dfs[model].loc[:, dfs[model].columns.astype(float)>10].to_csv('./SNcc/N13-%s-SNcc-total.csv' % model[:-3], float_format='%.4e')\n",
    "\n",
    "    else:\n",
    "        df_tmp = proc_df(model)\n",
    "        dfs[model] = df_tmp.loc[:, df_tmp.abs().sum(axis=0).values > 0]\n",
    "        dfs[model].to_csv('./HN/N13-%s-HN-total.csv' % model[:-3], float_format='%.4e')\n",
    "        # The float format of original yield files are %0.4e. "
   ]
  },
  {
   "cell_type": "code",
   "execution_count": 7,
   "metadata": {},
   "outputs": [
    {
     "data": {
      "text/plain": [
       "'0.0000'"
      ]
     },
     "execution_count": 7,
     "metadata": {},
     "output_type": "execute_result"
    }
   ],
   "source": [
    "z_line['model'][0][:-3]"
   ]
  },
  {
   "cell_type": "code",
   "execution_count": null,
   "metadata": {},
   "outputs": [],
   "source": []
  }
 ],
 "metadata": {
  "kernelspec": {
   "display_name": "spex",
   "language": "python",
   "name": "python3"
  },
  "language_info": {
   "codemirror_mode": {
    "name": "ipython",
    "version": 3
   },
   "file_extension": ".py",
   "mimetype": "text/x-python",
   "name": "python",
   "nbconvert_exporter": "python",
   "pygments_lexer": "ipython3",
   "version": "3.11.5"
  },
  "orig_nbformat": 4
 },
 "nbformat": 4,
 "nbformat_minor": 2
}
